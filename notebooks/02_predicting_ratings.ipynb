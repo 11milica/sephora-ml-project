{
 "cells": [
  {
   "cell_type": "code",
   "execution_count": 1,
   "id": "d7eba146-0e5c-4aec-92d0-96a5e4a0ed69",
   "metadata": {},
   "outputs": [
    {
     "name": "stderr",
     "output_type": "stream",
     "text": [
      "[nltk_data] Downloading package stopwords to\n",
      "[nltk_data]     C:\\Users\\KORISNIK/nltk_data...\n",
      "[nltk_data]   Package stopwords is already up-to-date!\n"
     ]
    }
   ],
   "source": [
    "# 📦 STEP 1: Import necessary libraries for regression-based prediction\n",
    "\n",
    "import pandas as pd\n",
    "import numpy as np\n",
    "import matplotlib.pyplot as plt\n",
    "import seaborn as sns\n",
    "import re\n",
    "\n",
    "# Text processing\n",
    "import nltk\n",
    "from nltk.corpus import stopwords\n",
    "nltk.download('stopwords')\n",
    "stop_words = set(stopwords.words('english'))\n",
    "\n",
    "# Preprocessing and modeling tools\n",
    "from sklearn.model_selection import train_test_split\n",
    "from sklearn.feature_extraction.text import TfidfVectorizer\n",
    "from sklearn.preprocessing import OneHotEncoder, StandardScaler\n",
    "from sklearn.metrics import mean_absolute_error, mean_squared_error, r2_score\n",
    "\n",
    "# ANN (for regression)\n",
    "from tensorflow.keras.models import Sequential\n",
    "from tensorflow.keras.layers import Dense, Dropout\n"
   ]
  },
  {
   "cell_type": "code",
   "execution_count": 4,
   "id": "060d2753-1ad8-4dde-b34f-0235de478d09",
   "metadata": {},
   "outputs": [
    {
     "name": "stderr",
     "output_type": "stream",
     "text": [
      "C:\\Users\\KORISNIK\\AppData\\Local\\Temp\\ipykernel_10972\\1203647153.py:13: DtypeWarning: Columns (1) have mixed types. Specify dtype option on import or set low_memory=False.\n",
      "  review_dfs = [pd.read_csv(file) for file in review_files]\n",
      "C:\\Users\\KORISNIK\\AppData\\Local\\Temp\\ipykernel_10972\\1203647153.py:13: DtypeWarning: Columns (1) have mixed types. Specify dtype option on import or set low_memory=False.\n",
      "  review_dfs = [pd.read_csv(file) for file in review_files]\n",
      "C:\\Users\\KORISNIK\\AppData\\Local\\Temp\\ipykernel_10972\\1203647153.py:13: DtypeWarning: Columns (1) have mixed types. Specify dtype option on import or set low_memory=False.\n",
      "  review_dfs = [pd.read_csv(file) for file in review_files]\n"
     ]
    },
    {
     "name": "stdout",
     "output_type": "stream",
     "text": [
      "🧾 Reviews shape: (1094411, 19)\n",
      "🛍️ Products shape: (8494, 27)\n"
     ]
    },
    {
     "data": {
      "text/html": [
       "<div>\n",
       "<style scoped>\n",
       "    .dataframe tbody tr th:only-of-type {\n",
       "        vertical-align: middle;\n",
       "    }\n",
       "\n",
       "    .dataframe tbody tr th {\n",
       "        vertical-align: top;\n",
       "    }\n",
       "\n",
       "    .dataframe thead th {\n",
       "        text-align: right;\n",
       "    }\n",
       "</style>\n",
       "<table border=\"1\" class=\"dataframe\">\n",
       "  <thead>\n",
       "    <tr style=\"text-align: right;\">\n",
       "      <th></th>\n",
       "      <th>review_text</th>\n",
       "      <th>rating_x</th>\n",
       "      <th>brand_name_x</th>\n",
       "      <th>price_usd_x</th>\n",
       "      <th>primary_category</th>\n",
       "    </tr>\n",
       "  </thead>\n",
       "  <tbody>\n",
       "    <tr>\n",
       "      <th>0</th>\n",
       "      <td>I use this with the Nudestix “Citrus Clean Bal...</td>\n",
       "      <td>5</td>\n",
       "      <td>NUDESTIX</td>\n",
       "      <td>19.0</td>\n",
       "      <td>Skincare</td>\n",
       "    </tr>\n",
       "    <tr>\n",
       "      <th>1</th>\n",
       "      <td>I bought this lip mask after reading the revie...</td>\n",
       "      <td>1</td>\n",
       "      <td>LANEIGE</td>\n",
       "      <td>24.0</td>\n",
       "      <td>Skincare</td>\n",
       "    </tr>\n",
       "    <tr>\n",
       "      <th>2</th>\n",
       "      <td>My review title says it all! I get so excited ...</td>\n",
       "      <td>5</td>\n",
       "      <td>LANEIGE</td>\n",
       "      <td>24.0</td>\n",
       "      <td>Skincare</td>\n",
       "    </tr>\n",
       "    <tr>\n",
       "      <th>3</th>\n",
       "      <td>I’ve always loved this formula for a long time...</td>\n",
       "      <td>5</td>\n",
       "      <td>LANEIGE</td>\n",
       "      <td>24.0</td>\n",
       "      <td>Skincare</td>\n",
       "    </tr>\n",
       "    <tr>\n",
       "      <th>4</th>\n",
       "      <td>If you have dry cracked lips, this is a must h...</td>\n",
       "      <td>5</td>\n",
       "      <td>LANEIGE</td>\n",
       "      <td>24.0</td>\n",
       "      <td>Skincare</td>\n",
       "    </tr>\n",
       "  </tbody>\n",
       "</table>\n",
       "</div>"
      ],
      "text/plain": [
       "                                         review_text  rating_x brand_name_x  \\\n",
       "0  I use this with the Nudestix “Citrus Clean Bal...         5     NUDESTIX   \n",
       "1  I bought this lip mask after reading the revie...         1      LANEIGE   \n",
       "2  My review title says it all! I get so excited ...         5      LANEIGE   \n",
       "3  I’ve always loved this formula for a long time...         5      LANEIGE   \n",
       "4  If you have dry cracked lips, this is a must h...         5      LANEIGE   \n",
       "\n",
       "   price_usd_x primary_category  \n",
       "0         19.0         Skincare  \n",
       "1         24.0         Skincare  \n",
       "2         24.0         Skincare  \n",
       "3         24.0         Skincare  \n",
       "4         24.0         Skincare  "
      ]
     },
     "execution_count": 4,
     "metadata": {},
     "output_type": "execute_result"
    }
   ],
   "source": [
    "# 📥 STEP 2: Load reviews and product metadata, and merge them\n",
    "\n",
    "# First, I load and concatenate all review chunks\n",
    "review_files = [\n",
    "    \"../data/reviews_0-250.csv\",\n",
    "    \"../data/reviews_250-500.csv\",\n",
    "    \"../data/reviews_500-750.csv\",\n",
    "    \"../data/reviews_750-1250.csv\",\n",
    "    \"../data/reviews_1250-end.csv\"\n",
    "]\n",
    "\n",
    "# Load and combine review files\n",
    "review_dfs = [pd.read_csv(file) for file in review_files]\n",
    "reviews_df = pd.concat(review_dfs, ignore_index=True)\n",
    "\n",
    "# Now I load product metadata\n",
    "products_df = pd.read_csv(\"../data/product_info.csv\")\n",
    "\n",
    "# Check the structure of both DataFrames\n",
    "print(\"🧾 Reviews shape:\", reviews_df.shape)\n",
    "print(\"🛍️ Products shape:\", products_df.shape)\n",
    "\n",
    "# Merge both on the shared 'product_id'\n",
    "merged_df = pd.merge(reviews_df, products_df, on='product_id', how='inner')\n",
    "\n",
    "# Preview the merged dataset\n",
    "# ✅ Updated preview using correct column names from the merged dataset\n",
    "merged_df[['review_text', 'rating_x', 'brand_name_x', 'price_usd_x', 'primary_category']].head()\n",
    "\n"
   ]
  },
  {
   "cell_type": "code",
   "execution_count": 5,
   "id": "5db5c10f-b8ce-467e-8532-e25b594a1865",
   "metadata": {},
   "outputs": [
    {
     "name": "stdout",
     "output_type": "stream",
     "text": [
      "Final dataset size: (1092967, 5)\n"
     ]
    }
   ],
   "source": [
    "# 🧼 STEP 3: Clean the dataset and select useful columns for regression\n",
    "\n",
    "# I rename some columns to simpler names\n",
    "merged_df = merged_df.rename(columns={\n",
    "    'rating_x': 'rating',\n",
    "    'brand_name_x': 'brand',\n",
    "    'price_usd_x': 'price',\n",
    "    'primary_category': 'category'\n",
    "})\n",
    "\n",
    "# Drop any rows with missing values in the selected columns\n",
    "merged_df = merged_df[['review_text', 'rating', 'brand', 'price', 'category']].dropna()\n",
    "\n",
    "# Let me check how many samples I have after cleaning\n",
    "print(\"Final dataset size:\", merged_df.shape)\n",
    "\n",
    "# I separate features (X) from the target variable (y)\n",
    "X_raw = merged_df[['review_text', 'brand', 'price', 'category']]\n",
    "y = merged_df['rating']\n"
   ]
  },
  {
   "cell_type": "code",
   "execution_count": 7,
   "id": "ef512468-fb22-42ff-86e4-79b9a26a20ac",
   "metadata": {},
   "outputs": [
    {
     "name": "stdout",
     "output_type": "stream",
     "text": [
      "Final feature matrix shape: (1092967, 3144)\n"
     ]
    }
   ],
   "source": [
    "# 🧠 STEP 4: Transform review text, categorical features, and price for regression\n",
    "\n",
    "from scipy.sparse import hstack\n",
    "\n",
    "# 1. TF-IDF vectorization of the cleaned review text\n",
    "tfidf = TfidfVectorizer(max_features=3000)\n",
    "X_text = tfidf.fit_transform(X_raw['review_text'])\n",
    "\n",
    "# 2. One-hot encoding for 'brand' and 'category'\n",
    "ohe = OneHotEncoder(handle_unknown='ignore', sparse_output=True)\n",
    "X_cat = ohe.fit_transform(X_raw[['brand', 'category']])\n",
    "\n",
    "# 3. Standard scaling for the numeric price feature\n",
    "scaler = StandardScaler()\n",
    "X_price = scaler.fit_transform(X_raw[['price']])\n",
    "\n",
    "# 4. Combine all feature matrices\n",
    "# text (sparse) + brand/category (sparse) + price (dense converted to sparse)\n",
    "from scipy.sparse import csr_matrix\n",
    "X_price_sparse = csr_matrix(X_price)\n",
    "\n",
    "# Concatenate horizontally\n",
    "X_final = hstack([X_text, X_cat, X_price_sparse])\n",
    "\n",
    "# Confirm shape\n",
    "print(\"Final feature matrix shape:\", X_final.shape)\n"
   ]
  },
  {
   "cell_type": "code",
   "execution_count": 8,
   "id": "8f33f6ec-36c6-42b0-8eef-918c4acf9815",
   "metadata": {},
   "outputs": [
    {
     "name": "stderr",
     "output_type": "stream",
     "text": [
      "C:\\Users\\KORISNIK\\Desktop\\sephora-ml-project\\venv310\\lib\\site-packages\\keras\\src\\layers\\core\\dense.py:93: UserWarning: Do not pass an `input_shape`/`input_dim` argument to a layer. When using Sequential models, prefer using an `Input(shape)` object as the first layer in the model instead.\n",
      "  super().__init__(activity_regularizer=activity_regularizer, **kwargs)\n"
     ]
    },
    {
     "name": "stdout",
     "output_type": "stream",
     "text": [
      "Epoch 1/5\n",
      "\u001b[1m1367/1367\u001b[0m \u001b[32m━━━━━━━━━━━━━━━━━━━━\u001b[0m\u001b[37m\u001b[0m \u001b[1m21s\u001b[0m 15ms/step - loss: 2.0305 - mae: 1.0200 - val_loss: 0.5117 - val_mae: 0.5246\n",
      "Epoch 2/5\n",
      "\u001b[1m1367/1367\u001b[0m \u001b[32m━━━━━━━━━━━━━━━━━━━━\u001b[0m\u001b[37m\u001b[0m \u001b[1m18s\u001b[0m 13ms/step - loss: 0.7649 - mae: 0.6802 - val_loss: 0.4421 - val_mae: 0.4693\n",
      "Epoch 3/5\n",
      "\u001b[1m1367/1367\u001b[0m \u001b[32m━━━━━━━━━━━━━━━━━━━━\u001b[0m\u001b[37m\u001b[0m \u001b[1m18s\u001b[0m 13ms/step - loss: 0.6454 - mae: 0.6174 - val_loss: 0.4198 - val_mae: 0.4728\n",
      "Epoch 4/5\n",
      "\u001b[1m1367/1367\u001b[0m \u001b[32m━━━━━━━━━━━━━━━━━━━━\u001b[0m\u001b[37m\u001b[0m \u001b[1m18s\u001b[0m 13ms/step - loss: 0.5393 - mae: 0.5565 - val_loss: 0.3895 - val_mae: 0.4229\n",
      "Epoch 5/5\n",
      "\u001b[1m1367/1367\u001b[0m \u001b[32m━━━━━━━━━━━━━━━━━━━━\u001b[0m\u001b[37m\u001b[0m \u001b[1m18s\u001b[0m 13ms/step - loss: 0.4581 - mae: 0.5040 - val_loss: 0.3745 - val_mae: 0.4124\n"
     ]
    }
   ],
   "source": [
    "# 🧪 STEP 5: Train/test split and ANN model for rating prediction\n",
    "\n",
    "# 1. Split into training and test sets\n",
    "X_train, X_test, y_train, y_test = train_test_split(\n",
    "    X_final, y, test_size=0.2, random_state=42\n",
    ")\n",
    "\n",
    "# 2. Define the ANN model (regression)\n",
    "model = Sequential()\n",
    "model.add(Dense(256, activation='relu', input_shape=(X_train.shape[1],)))\n",
    "model.add(Dropout(0.3))\n",
    "model.add(Dense(64, activation='relu'))\n",
    "model.add(Dropout(0.3))\n",
    "model.add(Dense(1))  # No activation → linear output for regression\n",
    "\n",
    "# 3. Compile the model using MSE loss for regression\n",
    "model.compile(\n",
    "    optimizer='adam',\n",
    "    loss='mean_squared_error',\n",
    "    metrics=['mae']  # Mean Absolute Error for easier interpretation\n",
    ")\n",
    "\n",
    "# 4. Train the model\n",
    "history = model.fit(\n",
    "    X_train, y_train,\n",
    "    epochs=5,\n",
    "    batch_size=512,\n",
    "    validation_split=0.2\n",
    ")\n"
   ]
  },
  {
   "cell_type": "code",
   "execution_count": 9,
   "id": "e4ba4378-69e5-4cec-9eb6-8caecec94454",
   "metadata": {},
   "outputs": [
    {
     "name": "stdout",
     "output_type": "stream",
     "text": [
      "\u001b[1m6832/6832\u001b[0m \u001b[32m━━━━━━━━━━━━━━━━━━━━\u001b[0m\u001b[37m\u001b[0m \u001b[1m9s\u001b[0m 1ms/step\n",
      "📏 Mean Absolute Error (MAE): 0.4119\n",
      "📐 Root Mean Squared Error (RMSE): 0.6098\n",
      "📈 R² Score: 0.7169\n"
     ]
    }
   ],
   "source": [
    "# 📊 STEP 6: Evaluate regression model on the test set\n",
    "\n",
    "# Predict on test set\n",
    "y_pred = model.predict(X_test)\n",
    "\n",
    "# Evaluation metrics\n",
    "mae = mean_absolute_error(y_test, y_pred)\n",
    "rmse = np.sqrt(mean_squared_error(y_test, y_pred))\n",
    "r2 = r2_score(y_test, y_pred)\n",
    "\n",
    "print(f\"📏 Mean Absolute Error (MAE): {mae:.4f}\")\n",
    "print(f\"📐 Root Mean Squared Error (RMSE): {rmse:.4f}\")\n",
    "print(f\"📈 R² Score: {r2:.4f}\")\n"
   ]
  },
  {
   "cell_type": "code",
   "execution_count": 11,
   "id": "46bb2517-edf2-40b0-aa70-0c868e07f092",
   "metadata": {},
   "outputs": [
    {
     "name": "stderr",
     "output_type": "stream",
     "text": [
      "C:\\Users\\KORISNIK\\AppData\\Local\\Temp\\ipykernel_10972\\1635104851.py:11: FutureWarning: \n",
      "\n",
      "Passing `palette` without assigning `hue` is deprecated and will be removed in v0.14.0. Assign the `x` variable to `hue` and set `legend=False` for the same effect.\n",
      "\n",
      "  sns.boxplot(x='True Rating', y='Predicted Rating', data=boxplot_df, palette='coolwarm')\n",
      "C:\\Users\\KORISNIK\\AppData\\Local\\Temp\\ipykernel_10972\\1635104851.py:16: UserWarning: Glyph 128230 (\\N{PACKAGE}) missing from font(s) DejaVu Sans.\n",
      "  plt.tight_layout()\n",
      "C:\\Users\\KORISNIK\\Desktop\\sephora-ml-project\\venv310\\lib\\site-packages\\IPython\\core\\pylabtools.py:170: UserWarning: Glyph 128230 (\\N{PACKAGE}) missing from font(s) DejaVu Sans.\n",
      "  fig.canvas.print_figure(bytes_io, **kw)\n"
     ]
    },
    {
     "data": {
      "image/png": "[encoded data removed]",
      "text/plain": [
       "<Figure size 1000x600 with 1 Axes>"
      ]
     },
     "metadata": {},
     "output_type": "display_data"
    }
   ],
   "source": [
    "# 📦 Boxplot of predicted ratings for each true rating bucket\n",
    "\n",
    "# Group predictions by the true rating\n",
    "import pandas as pd\n",
    "boxplot_df = pd.DataFrame({\n",
    "    'True Rating': y_test,\n",
    "    'Predicted Rating': y_pred.flatten()\n",
    "})\n",
    "\n",
    "plt.figure(figsize=(10, 6))\n",
    "sns.boxplot(x='True Rating', y='Predicted Rating', data=boxplot_df, palette='coolwarm')\n",
    "plt.title(\"📦 Distribution of Predicted Ratings by True Rating (Boxplot)\")\n",
    "plt.xlabel(\"True Rating\")\n",
    "plt.ylabel(\"Predicted Rating\")\n",
    "plt.grid(True)\n",
    "plt.tight_layout()\n",
    "plt.show()\n"
   ]
  },
  {
   "cell_type": "code",
   "execution_count": null,
   "id": "ce6ccc31-0eae-4a56-ae92-0699707990ed",
   "metadata": {},
   "outputs": [],
   "source": []
  }
 ],
 "metadata": {
  "kernelspec": {
   "display_name": "Python 3 (ipykernel)",
   "language": "python",
   "name": "python3"
  },
  "language_info": {
   "codemirror_mode": {
    "name": "ipython",
    "version": 3
   },
   "file_extension": ".py",
   "mimetype": "text/x-python",
   "name": "python",
   "nbconvert_exporter": "python",
   "pygments_lexer": "ipython3",
   "version": "3.10.9"
  }
 },
 "nbformat": 4,
 "nbformat_minor": 5
}
